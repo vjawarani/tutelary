{
 "cells": [
  {
   "cell_type": "markdown",
   "metadata": {},
   "source": [
    "# Tutelary: An AI Guide to Consumer Privacy"
   ]
  },
  {
   "cell_type": "markdown",
   "metadata": {},
   "source": [
    "# Install Haystack + Dependencies\n",
    "\n",
    "I used `pip` but `conda` is also an option, and to some extent, preferable."
   ]
  },
  {
   "cell_type": "code",
   "execution_count": 6,
   "metadata": {},
   "outputs": [
    {
     "name": "stdout",
     "output_type": "stream",
     "text": [
      "Requirement already satisfied: haystack-ai in /Users/vjawarani/Documents/work/postgrad/tutelary/.venv/lib/python3.9/site-packages (2.4.0)\n",
      "Requirement already satisfied: haystack-experimental in /Users/vjawarani/Documents/work/postgrad/tutelary/.venv/lib/python3.9/site-packages (from haystack-ai) (0.1.2.dev30+g3122605)\n",
      "Requirement already satisfied: jinja2 in /Users/vjawarani/Documents/work/postgrad/tutelary/.venv/lib/python3.9/site-packages (from haystack-ai) (3.1.4)\n",
      "Requirement already satisfied: lazy-imports in /Users/vjawarani/Documents/work/postgrad/tutelary/.venv/lib/python3.9/site-packages (from haystack-ai) (0.3.1)\n",
      "Requirement already satisfied: more-itertools in /Users/vjawarani/Documents/work/postgrad/tutelary/.venv/lib/python3.9/site-packages (from haystack-ai) (10.4.0)\n",
      "Requirement already satisfied: networkx in /Users/vjawarani/Documents/work/postgrad/tutelary/.venv/lib/python3.9/site-packages (from haystack-ai) (3.2.1)\n",
      "Requirement already satisfied: numpy<2 in /Users/vjawarani/Documents/work/postgrad/tutelary/.venv/lib/python3.9/site-packages (from haystack-ai) (1.26.4)\n",
      "Requirement already satisfied: openai>=1.1.0 in /Users/vjawarani/Documents/work/postgrad/tutelary/.venv/lib/python3.9/site-packages (from haystack-ai) (1.42.0)\n",
      "Requirement already satisfied: pandas in /Users/vjawarani/Documents/work/postgrad/tutelary/.venv/lib/python3.9/site-packages (from haystack-ai) (2.2.2)\n",
      "Requirement already satisfied: posthog in /Users/vjawarani/Documents/work/postgrad/tutelary/.venv/lib/python3.9/site-packages (from haystack-ai) (3.5.2)\n",
      "Requirement already satisfied: python-dateutil in /Users/vjawarani/Documents/work/postgrad/tutelary/.venv/lib/python3.9/site-packages (from haystack-ai) (2.9.0.post0)\n",
      "Requirement already satisfied: pyyaml in /Users/vjawarani/Documents/work/postgrad/tutelary/.venv/lib/python3.9/site-packages (from haystack-ai) (6.0.2)\n",
      "Requirement already satisfied: requests in /Users/vjawarani/Documents/work/postgrad/tutelary/.venv/lib/python3.9/site-packages (from haystack-ai) (2.32.3)\n",
      "Requirement already satisfied: tenacity!=8.4.0 in /Users/vjawarani/Documents/work/postgrad/tutelary/.venv/lib/python3.9/site-packages (from haystack-ai) (9.0.0)\n",
      "Requirement already satisfied: tqdm in /Users/vjawarani/Documents/work/postgrad/tutelary/.venv/lib/python3.9/site-packages (from haystack-ai) (4.66.5)\n",
      "Requirement already satisfied: typing-extensions>=4.7 in /Users/vjawarani/Documents/work/postgrad/tutelary/.venv/lib/python3.9/site-packages (from haystack-ai) (4.12.2)\n",
      "Requirement already satisfied: anyio<5,>=3.5.0 in /Users/vjawarani/Documents/work/postgrad/tutelary/.venv/lib/python3.9/site-packages (from openai>=1.1.0->haystack-ai) (4.4.0)\n",
      "Requirement already satisfied: distro<2,>=1.7.0 in /Users/vjawarani/Documents/work/postgrad/tutelary/.venv/lib/python3.9/site-packages (from openai>=1.1.0->haystack-ai) (1.9.0)\n",
      "Requirement already satisfied: httpx<1,>=0.23.0 in /Users/vjawarani/Documents/work/postgrad/tutelary/.venv/lib/python3.9/site-packages (from openai>=1.1.0->haystack-ai) (0.27.0)\n",
      "Requirement already satisfied: jiter<1,>=0.4.0 in /Users/vjawarani/Documents/work/postgrad/tutelary/.venv/lib/python3.9/site-packages (from openai>=1.1.0->haystack-ai) (0.5.0)\n",
      "Requirement already satisfied: pydantic<3,>=1.9.0 in /Users/vjawarani/Documents/work/postgrad/tutelary/.venv/lib/python3.9/site-packages (from openai>=1.1.0->haystack-ai) (2.8.2)\n",
      "Requirement already satisfied: sniffio in /Users/vjawarani/Documents/work/postgrad/tutelary/.venv/lib/python3.9/site-packages (from openai>=1.1.0->haystack-ai) (1.3.1)\n",
      "Requirement already satisfied: MarkupSafe>=2.0 in /Users/vjawarani/Documents/work/postgrad/tutelary/.venv/lib/python3.9/site-packages (from jinja2->haystack-ai) (2.1.5)\n",
      "Requirement already satisfied: pytz>=2020.1 in /Users/vjawarani/Documents/work/postgrad/tutelary/.venv/lib/python3.9/site-packages (from pandas->haystack-ai) (2024.1)\n",
      "Requirement already satisfied: tzdata>=2022.7 in /Users/vjawarani/Documents/work/postgrad/tutelary/.venv/lib/python3.9/site-packages (from pandas->haystack-ai) (2024.1)\n",
      "Requirement already satisfied: six>=1.5 in /Users/vjawarani/Documents/work/postgrad/tutelary/.venv/lib/python3.9/site-packages (from python-dateutil->haystack-ai) (1.16.0)\n",
      "Requirement already satisfied: monotonic>=1.5 in /Users/vjawarani/Documents/work/postgrad/tutelary/.venv/lib/python3.9/site-packages (from posthog->haystack-ai) (1.6)\n",
      "Requirement already satisfied: backoff>=1.10.0 in /Users/vjawarani/Documents/work/postgrad/tutelary/.venv/lib/python3.9/site-packages (from posthog->haystack-ai) (2.2.1)\n",
      "Requirement already satisfied: charset-normalizer<4,>=2 in /Users/vjawarani/Documents/work/postgrad/tutelary/.venv/lib/python3.9/site-packages (from requests->haystack-ai) (3.3.2)\n",
      "Requirement already satisfied: idna<4,>=2.5 in /Users/vjawarani/Documents/work/postgrad/tutelary/.venv/lib/python3.9/site-packages (from requests->haystack-ai) (3.8)\n",
      "Requirement already satisfied: urllib3<3,>=1.21.1 in /Users/vjawarani/Documents/work/postgrad/tutelary/.venv/lib/python3.9/site-packages (from requests->haystack-ai) (2.2.2)\n",
      "Requirement already satisfied: certifi>=2017.4.17 in /Users/vjawarani/Documents/work/postgrad/tutelary/.venv/lib/python3.9/site-packages (from requests->haystack-ai) (2024.7.4)\n",
      "Requirement already satisfied: exceptiongroup>=1.0.2 in /Users/vjawarani/Documents/work/postgrad/tutelary/.venv/lib/python3.9/site-packages (from anyio<5,>=3.5.0->openai>=1.1.0->haystack-ai) (1.2.2)\n",
      "Requirement already satisfied: httpcore==1.* in /Users/vjawarani/Documents/work/postgrad/tutelary/.venv/lib/python3.9/site-packages (from httpx<1,>=0.23.0->openai>=1.1.0->haystack-ai) (1.0.5)\n",
      "Requirement already satisfied: h11<0.15,>=0.13 in /Users/vjawarani/Documents/work/postgrad/tutelary/.venv/lib/python3.9/site-packages (from httpcore==1.*->httpx<1,>=0.23.0->openai>=1.1.0->haystack-ai) (0.14.0)\n",
      "Requirement already satisfied: annotated-types>=0.4.0 in /Users/vjawarani/Documents/work/postgrad/tutelary/.venv/lib/python3.9/site-packages (from pydantic<3,>=1.9.0->openai>=1.1.0->haystack-ai) (0.7.0)\n",
      "Requirement already satisfied: pydantic-core==2.20.1 in /Users/vjawarani/Documents/work/postgrad/tutelary/.venv/lib/python3.9/site-packages (from pydantic<3,>=1.9.0->openai>=1.1.0->haystack-ai) (2.20.1)\n",
      "Requirement already satisfied: sentence-transformers>=2.8.0 in /Users/vjawarani/Documents/work/postgrad/tutelary/.venv/lib/python3.9/site-packages (3.0.1)\n",
      "Requirement already satisfied: huggingface_hub>=0.22.0 in /Users/vjawarani/Documents/work/postgrad/tutelary/.venv/lib/python3.9/site-packages (0.24.6)\n",
      "Requirement already satisfied: transformers<5.0.0,>=4.34.0 in /Users/vjawarani/Documents/work/postgrad/tutelary/.venv/lib/python3.9/site-packages (from sentence-transformers>=2.8.0) (4.44.2)\n",
      "Requirement already satisfied: tqdm in /Users/vjawarani/Documents/work/postgrad/tutelary/.venv/lib/python3.9/site-packages (from sentence-transformers>=2.8.0) (4.66.5)\n",
      "Requirement already satisfied: torch>=1.11.0 in /Users/vjawarani/Documents/work/postgrad/tutelary/.venv/lib/python3.9/site-packages (from sentence-transformers>=2.8.0) (2.4.0)\n",
      "Requirement already satisfied: numpy in /Users/vjawarani/Documents/work/postgrad/tutelary/.venv/lib/python3.9/site-packages (from sentence-transformers>=2.8.0) (1.26.4)\n",
      "Requirement already satisfied: scikit-learn in /Users/vjawarani/Documents/work/postgrad/tutelary/.venv/lib/python3.9/site-packages (from sentence-transformers>=2.8.0) (1.5.1)\n",
      "Requirement already satisfied: scipy in /Users/vjawarani/Documents/work/postgrad/tutelary/.venv/lib/python3.9/site-packages (from sentence-transformers>=2.8.0) (1.13.1)\n",
      "Requirement already satisfied: Pillow in /Users/vjawarani/Documents/work/postgrad/tutelary/.venv/lib/python3.9/site-packages (from sentence-transformers>=2.8.0) (10.4.0)\n",
      "Requirement already satisfied: filelock in /Users/vjawarani/Documents/work/postgrad/tutelary/.venv/lib/python3.9/site-packages (from huggingface_hub>=0.22.0) (3.15.4)\n",
      "Requirement already satisfied: fsspec>=2023.5.0 in /Users/vjawarani/Documents/work/postgrad/tutelary/.venv/lib/python3.9/site-packages (from huggingface_hub>=0.22.0) (2024.6.1)\n",
      "Requirement already satisfied: packaging>=20.9 in /Users/vjawarani/Documents/work/postgrad/tutelary/.venv/lib/python3.9/site-packages (from huggingface_hub>=0.22.0) (24.1)\n",
      "Requirement already satisfied: pyyaml>=5.1 in /Users/vjawarani/Documents/work/postgrad/tutelary/.venv/lib/python3.9/site-packages (from huggingface_hub>=0.22.0) (6.0.2)\n",
      "Requirement already satisfied: requests in /Users/vjawarani/Documents/work/postgrad/tutelary/.venv/lib/python3.9/site-packages (from huggingface_hub>=0.22.0) (2.32.3)\n",
      "Requirement already satisfied: typing-extensions>=3.7.4.3 in /Users/vjawarani/Documents/work/postgrad/tutelary/.venv/lib/python3.9/site-packages (from huggingface_hub>=0.22.0) (4.12.2)\n",
      "Requirement already satisfied: sympy in /Users/vjawarani/Documents/work/postgrad/tutelary/.venv/lib/python3.9/site-packages (from torch>=1.11.0->sentence-transformers>=2.8.0) (1.13.2)\n",
      "Requirement already satisfied: networkx in /Users/vjawarani/Documents/work/postgrad/tutelary/.venv/lib/python3.9/site-packages (from torch>=1.11.0->sentence-transformers>=2.8.0) (3.2.1)\n",
      "Requirement already satisfied: jinja2 in /Users/vjawarani/Documents/work/postgrad/tutelary/.venv/lib/python3.9/site-packages (from torch>=1.11.0->sentence-transformers>=2.8.0) (3.1.4)\n",
      "Requirement already satisfied: regex!=2019.12.17 in /Users/vjawarani/Documents/work/postgrad/tutelary/.venv/lib/python3.9/site-packages (from transformers<5.0.0,>=4.34.0->sentence-transformers>=2.8.0) (2024.7.24)\n",
      "Requirement already satisfied: safetensors>=0.4.1 in /Users/vjawarani/Documents/work/postgrad/tutelary/.venv/lib/python3.9/site-packages (from transformers<5.0.0,>=4.34.0->sentence-transformers>=2.8.0) (0.4.4)\n",
      "Requirement already satisfied: tokenizers<0.20,>=0.19 in /Users/vjawarani/Documents/work/postgrad/tutelary/.venv/lib/python3.9/site-packages (from transformers<5.0.0,>=4.34.0->sentence-transformers>=2.8.0) (0.19.1)\n",
      "Requirement already satisfied: charset-normalizer<4,>=2 in /Users/vjawarani/Documents/work/postgrad/tutelary/.venv/lib/python3.9/site-packages (from requests->huggingface_hub>=0.22.0) (3.3.2)\n",
      "Requirement already satisfied: idna<4,>=2.5 in /Users/vjawarani/Documents/work/postgrad/tutelary/.venv/lib/python3.9/site-packages (from requests->huggingface_hub>=0.22.0) (3.8)\n",
      "Requirement already satisfied: urllib3<3,>=1.21.1 in /Users/vjawarani/Documents/work/postgrad/tutelary/.venv/lib/python3.9/site-packages (from requests->huggingface_hub>=0.22.0) (2.2.2)\n",
      "Requirement already satisfied: certifi>=2017.4.17 in /Users/vjawarani/Documents/work/postgrad/tutelary/.venv/lib/python3.9/site-packages (from requests->huggingface_hub>=0.22.0) (2024.7.4)\n",
      "Requirement already satisfied: joblib>=1.2.0 in /Users/vjawarani/Documents/work/postgrad/tutelary/.venv/lib/python3.9/site-packages (from scikit-learn->sentence-transformers>=2.8.0) (1.4.2)\n",
      "Requirement already satisfied: threadpoolctl>=3.1.0 in /Users/vjawarani/Documents/work/postgrad/tutelary/.venv/lib/python3.9/site-packages (from scikit-learn->sentence-transformers>=2.8.0) (3.5.0)\n",
      "Requirement already satisfied: MarkupSafe>=2.0 in /Users/vjawarani/Documents/work/postgrad/tutelary/.venv/lib/python3.9/site-packages (from jinja2->torch>=1.11.0->sentence-transformers>=2.8.0) (2.1.5)\n",
      "Requirement already satisfied: mpmath<1.4,>=1.1.0 in /Users/vjawarani/Documents/work/postgrad/tutelary/.venv/lib/python3.9/site-packages (from sympy->torch>=1.11.0->sentence-transformers>=2.8.0) (1.3.0)\n",
      "Requirement already satisfied: markdown-it-py in /Users/vjawarani/Documents/work/postgrad/tutelary/.venv/lib/python3.9/site-packages (3.0.0)\n",
      "Requirement already satisfied: mdit_plain in /Users/vjawarani/Documents/work/postgrad/tutelary/.venv/lib/python3.9/site-packages (1.0.1)\n",
      "Requirement already satisfied: pypdf in /Users/vjawarani/Documents/work/postgrad/tutelary/.venv/lib/python3.9/site-packages (4.3.1)\n",
      "Requirement already satisfied: mdurl~=0.1 in /Users/vjawarani/Documents/work/postgrad/tutelary/.venv/lib/python3.9/site-packages (from markdown-it-py) (0.1.2)\n",
      "Requirement already satisfied: typing_extensions>=4.0 in /Users/vjawarani/Documents/work/postgrad/tutelary/.venv/lib/python3.9/site-packages (from pypdf) (4.12.2)\n",
      "Requirement already satisfied: accelerate in /Users/vjawarani/Documents/work/postgrad/tutelary/.venv/lib/python3.9/site-packages (0.33.0)\n",
      "Requirement already satisfied: numpy<2.0.0,>=1.17 in /Users/vjawarani/Documents/work/postgrad/tutelary/.venv/lib/python3.9/site-packages (from accelerate) (1.26.4)\n",
      "Requirement already satisfied: packaging>=20.0 in /Users/vjawarani/Documents/work/postgrad/tutelary/.venv/lib/python3.9/site-packages (from accelerate) (24.1)\n",
      "Requirement already satisfied: psutil in /Users/vjawarani/Documents/work/postgrad/tutelary/.venv/lib/python3.9/site-packages (from accelerate) (6.0.0)\n",
      "Requirement already satisfied: pyyaml in /Users/vjawarani/Documents/work/postgrad/tutelary/.venv/lib/python3.9/site-packages (from accelerate) (6.0.2)\n",
      "Requirement already satisfied: torch>=1.10.0 in /Users/vjawarani/Documents/work/postgrad/tutelary/.venv/lib/python3.9/site-packages (from accelerate) (2.4.0)\n",
      "Requirement already satisfied: huggingface-hub>=0.21.0 in /Users/vjawarani/Documents/work/postgrad/tutelary/.venv/lib/python3.9/site-packages (from accelerate) (0.24.6)\n",
      "Requirement already satisfied: safetensors>=0.3.1 in /Users/vjawarani/Documents/work/postgrad/tutelary/.venv/lib/python3.9/site-packages (from accelerate) (0.4.4)\n",
      "Requirement already satisfied: filelock in /Users/vjawarani/Documents/work/postgrad/tutelary/.venv/lib/python3.9/site-packages (from huggingface-hub>=0.21.0->accelerate) (3.15.4)\n",
      "Requirement already satisfied: fsspec>=2023.5.0 in /Users/vjawarani/Documents/work/postgrad/tutelary/.venv/lib/python3.9/site-packages (from huggingface-hub>=0.21.0->accelerate) (2024.6.1)\n",
      "Requirement already satisfied: requests in /Users/vjawarani/Documents/work/postgrad/tutelary/.venv/lib/python3.9/site-packages (from huggingface-hub>=0.21.0->accelerate) (2.32.3)\n",
      "Requirement already satisfied: tqdm>=4.42.1 in /Users/vjawarani/Documents/work/postgrad/tutelary/.venv/lib/python3.9/site-packages (from huggingface-hub>=0.21.0->accelerate) (4.66.5)\n",
      "Requirement already satisfied: typing-extensions>=3.7.4.3 in /Users/vjawarani/Documents/work/postgrad/tutelary/.venv/lib/python3.9/site-packages (from huggingface-hub>=0.21.0->accelerate) (4.12.2)\n",
      "Requirement already satisfied: sympy in /Users/vjawarani/Documents/work/postgrad/tutelary/.venv/lib/python3.9/site-packages (from torch>=1.10.0->accelerate) (1.13.2)\n",
      "Requirement already satisfied: networkx in /Users/vjawarani/Documents/work/postgrad/tutelary/.venv/lib/python3.9/site-packages (from torch>=1.10.0->accelerate) (3.2.1)\n",
      "Requirement already satisfied: jinja2 in /Users/vjawarani/Documents/work/postgrad/tutelary/.venv/lib/python3.9/site-packages (from torch>=1.10.0->accelerate) (3.1.4)\n",
      "Requirement already satisfied: MarkupSafe>=2.0 in /Users/vjawarani/Documents/work/postgrad/tutelary/.venv/lib/python3.9/site-packages (from jinja2->torch>=1.10.0->accelerate) (2.1.5)\n",
      "Requirement already satisfied: charset-normalizer<4,>=2 in /Users/vjawarani/Documents/work/postgrad/tutelary/.venv/lib/python3.9/site-packages (from requests->huggingface-hub>=0.21.0->accelerate) (3.3.2)\n",
      "Requirement already satisfied: idna<4,>=2.5 in /Users/vjawarani/Documents/work/postgrad/tutelary/.venv/lib/python3.9/site-packages (from requests->huggingface-hub>=0.21.0->accelerate) (3.8)\n",
      "Requirement already satisfied: urllib3<3,>=1.21.1 in /Users/vjawarani/Documents/work/postgrad/tutelary/.venv/lib/python3.9/site-packages (from requests->huggingface-hub>=0.21.0->accelerate) (2.2.2)\n",
      "Requirement already satisfied: certifi>=2017.4.17 in /Users/vjawarani/Documents/work/postgrad/tutelary/.venv/lib/python3.9/site-packages (from requests->huggingface-hub>=0.21.0->accelerate) (2024.7.4)\n",
      "Requirement already satisfied: mpmath<1.4,>=1.1.0 in /Users/vjawarani/Documents/work/postgrad/tutelary/.venv/lib/python3.9/site-packages (from sympy->torch>=1.10.0->accelerate) (1.3.0)\n",
      "Requirement already satisfied: elasticsearch-haystack in /Users/vjawarani/Documents/work/postgrad/tutelary/.venv/lib/python3.9/site-packages (0.7.1)\n",
      "Requirement already satisfied: elasticsearch<9,>=8 in /Users/vjawarani/Documents/work/postgrad/tutelary/.venv/lib/python3.9/site-packages (from elasticsearch-haystack) (8.15.0)\n",
      "Requirement already satisfied: haystack-ai in /Users/vjawarani/Documents/work/postgrad/tutelary/.venv/lib/python3.9/site-packages (from elasticsearch-haystack) (2.4.0)\n",
      "Requirement already satisfied: elastic-transport<9,>=8.13 in /Users/vjawarani/Documents/work/postgrad/tutelary/.venv/lib/python3.9/site-packages (from elasticsearch<9,>=8->elasticsearch-haystack) (8.15.0)\n",
      "Requirement already satisfied: haystack-experimental in /Users/vjawarani/Documents/work/postgrad/tutelary/.venv/lib/python3.9/site-packages (from haystack-ai->elasticsearch-haystack) (0.1.2.dev30+g3122605)\n",
      "Requirement already satisfied: jinja2 in /Users/vjawarani/Documents/work/postgrad/tutelary/.venv/lib/python3.9/site-packages (from haystack-ai->elasticsearch-haystack) (3.1.4)\n",
      "Requirement already satisfied: lazy-imports in /Users/vjawarani/Documents/work/postgrad/tutelary/.venv/lib/python3.9/site-packages (from haystack-ai->elasticsearch-haystack) (0.3.1)\n",
      "Requirement already satisfied: more-itertools in /Users/vjawarani/Documents/work/postgrad/tutelary/.venv/lib/python3.9/site-packages (from haystack-ai->elasticsearch-haystack) (10.4.0)\n",
      "Requirement already satisfied: networkx in /Users/vjawarani/Documents/work/postgrad/tutelary/.venv/lib/python3.9/site-packages (from haystack-ai->elasticsearch-haystack) (3.2.1)\n",
      "Requirement already satisfied: numpy<2 in /Users/vjawarani/Documents/work/postgrad/tutelary/.venv/lib/python3.9/site-packages (from haystack-ai->elasticsearch-haystack) (1.26.4)\n",
      "Requirement already satisfied: openai>=1.1.0 in /Users/vjawarani/Documents/work/postgrad/tutelary/.venv/lib/python3.9/site-packages (from haystack-ai->elasticsearch-haystack) (1.42.0)\n",
      "Requirement already satisfied: pandas in /Users/vjawarani/Documents/work/postgrad/tutelary/.venv/lib/python3.9/site-packages (from haystack-ai->elasticsearch-haystack) (2.2.2)\n",
      "Requirement already satisfied: posthog in /Users/vjawarani/Documents/work/postgrad/tutelary/.venv/lib/python3.9/site-packages (from haystack-ai->elasticsearch-haystack) (3.5.2)\n",
      "Requirement already satisfied: python-dateutil in /Users/vjawarani/Documents/work/postgrad/tutelary/.venv/lib/python3.9/site-packages (from haystack-ai->elasticsearch-haystack) (2.9.0.post0)\n",
      "Requirement already satisfied: pyyaml in /Users/vjawarani/Documents/work/postgrad/tutelary/.venv/lib/python3.9/site-packages (from haystack-ai->elasticsearch-haystack) (6.0.2)\n",
      "Requirement already satisfied: requests in /Users/vjawarani/Documents/work/postgrad/tutelary/.venv/lib/python3.9/site-packages (from haystack-ai->elasticsearch-haystack) (2.32.3)\n",
      "Requirement already satisfied: tenacity!=8.4.0 in /Users/vjawarani/Documents/work/postgrad/tutelary/.venv/lib/python3.9/site-packages (from haystack-ai->elasticsearch-haystack) (9.0.0)\n",
      "Requirement already satisfied: tqdm in /Users/vjawarani/Documents/work/postgrad/tutelary/.venv/lib/python3.9/site-packages (from haystack-ai->elasticsearch-haystack) (4.66.5)\n",
      "Requirement already satisfied: typing-extensions>=4.7 in /Users/vjawarani/Documents/work/postgrad/tutelary/.venv/lib/python3.9/site-packages (from haystack-ai->elasticsearch-haystack) (4.12.2)\n",
      "Requirement already satisfied: urllib3<3,>=1.26.2 in /Users/vjawarani/Documents/work/postgrad/tutelary/.venv/lib/python3.9/site-packages (from elastic-transport<9,>=8.13->elasticsearch<9,>=8->elasticsearch-haystack) (2.2.2)\n",
      "Requirement already satisfied: certifi in /Users/vjawarani/Documents/work/postgrad/tutelary/.venv/lib/python3.9/site-packages (from elastic-transport<9,>=8.13->elasticsearch<9,>=8->elasticsearch-haystack) (2024.7.4)\n",
      "Requirement already satisfied: anyio<5,>=3.5.0 in /Users/vjawarani/Documents/work/postgrad/tutelary/.venv/lib/python3.9/site-packages (from openai>=1.1.0->haystack-ai->elasticsearch-haystack) (4.4.0)\n",
      "Requirement already satisfied: distro<2,>=1.7.0 in /Users/vjawarani/Documents/work/postgrad/tutelary/.venv/lib/python3.9/site-packages (from openai>=1.1.0->haystack-ai->elasticsearch-haystack) (1.9.0)\n",
      "Requirement already satisfied: httpx<1,>=0.23.0 in /Users/vjawarani/Documents/work/postgrad/tutelary/.venv/lib/python3.9/site-packages (from openai>=1.1.0->haystack-ai->elasticsearch-haystack) (0.27.0)\n",
      "Requirement already satisfied: jiter<1,>=0.4.0 in /Users/vjawarani/Documents/work/postgrad/tutelary/.venv/lib/python3.9/site-packages (from openai>=1.1.0->haystack-ai->elasticsearch-haystack) (0.5.0)\n",
      "Requirement already satisfied: pydantic<3,>=1.9.0 in /Users/vjawarani/Documents/work/postgrad/tutelary/.venv/lib/python3.9/site-packages (from openai>=1.1.0->haystack-ai->elasticsearch-haystack) (2.8.2)\n",
      "Requirement already satisfied: sniffio in /Users/vjawarani/Documents/work/postgrad/tutelary/.venv/lib/python3.9/site-packages (from openai>=1.1.0->haystack-ai->elasticsearch-haystack) (1.3.1)\n",
      "Requirement already satisfied: MarkupSafe>=2.0 in /Users/vjawarani/Documents/work/postgrad/tutelary/.venv/lib/python3.9/site-packages (from jinja2->haystack-ai->elasticsearch-haystack) (2.1.5)\n",
      "Requirement already satisfied: pytz>=2020.1 in /Users/vjawarani/Documents/work/postgrad/tutelary/.venv/lib/python3.9/site-packages (from pandas->haystack-ai->elasticsearch-haystack) (2024.1)\n",
      "Requirement already satisfied: tzdata>=2022.7 in /Users/vjawarani/Documents/work/postgrad/tutelary/.venv/lib/python3.9/site-packages (from pandas->haystack-ai->elasticsearch-haystack) (2024.1)\n",
      "Requirement already satisfied: six>=1.5 in /Users/vjawarani/Documents/work/postgrad/tutelary/.venv/lib/python3.9/site-packages (from python-dateutil->haystack-ai->elasticsearch-haystack) (1.16.0)\n",
      "Requirement already satisfied: monotonic>=1.5 in /Users/vjawarani/Documents/work/postgrad/tutelary/.venv/lib/python3.9/site-packages (from posthog->haystack-ai->elasticsearch-haystack) (1.6)\n",
      "Requirement already satisfied: backoff>=1.10.0 in /Users/vjawarani/Documents/work/postgrad/tutelary/.venv/lib/python3.9/site-packages (from posthog->haystack-ai->elasticsearch-haystack) (2.2.1)\n",
      "Requirement already satisfied: charset-normalizer<4,>=2 in /Users/vjawarani/Documents/work/postgrad/tutelary/.venv/lib/python3.9/site-packages (from requests->haystack-ai->elasticsearch-haystack) (3.3.2)\n",
      "Requirement already satisfied: idna<4,>=2.5 in /Users/vjawarani/Documents/work/postgrad/tutelary/.venv/lib/python3.9/site-packages (from requests->haystack-ai->elasticsearch-haystack) (3.8)\n",
      "Requirement already satisfied: exceptiongroup>=1.0.2 in /Users/vjawarani/Documents/work/postgrad/tutelary/.venv/lib/python3.9/site-packages (from anyio<5,>=3.5.0->openai>=1.1.0->haystack-ai->elasticsearch-haystack) (1.2.2)\n",
      "Requirement already satisfied: httpcore==1.* in /Users/vjawarani/Documents/work/postgrad/tutelary/.venv/lib/python3.9/site-packages (from httpx<1,>=0.23.0->openai>=1.1.0->haystack-ai->elasticsearch-haystack) (1.0.5)\n",
      "Requirement already satisfied: h11<0.15,>=0.13 in /Users/vjawarani/Documents/work/postgrad/tutelary/.venv/lib/python3.9/site-packages (from httpcore==1.*->httpx<1,>=0.23.0->openai>=1.1.0->haystack-ai->elasticsearch-haystack) (0.14.0)\n",
      "Requirement already satisfied: annotated-types>=0.4.0 in /Users/vjawarani/Documents/work/postgrad/tutelary/.venv/lib/python3.9/site-packages (from pydantic<3,>=1.9.0->openai>=1.1.0->haystack-ai->elasticsearch-haystack) (0.7.0)\n",
      "Requirement already satisfied: pydantic-core==2.20.1 in /Users/vjawarani/Documents/work/postgrad/tutelary/.venv/lib/python3.9/site-packages (from pydantic<3,>=1.9.0->openai>=1.1.0->haystack-ai->elasticsearch-haystack) (2.20.1)\n",
      "Collecting git+https://github.com/deepset-ai/haystack-experimental.git\n",
      "  Cloning https://github.com/deepset-ai/haystack-experimental.git to /private/var/folders/_9/19gkcjr503l6n9bmz92sgy4m0000gp/T/pip-req-build-calagx7u\n"
     ]
    },
    {
     "name": "stderr",
     "output_type": "stream",
     "text": [
      "  Running command git clone --quiet https://github.com/deepset-ai/haystack-experimental.git /private/var/folders/_9/19gkcjr503l6n9bmz92sgy4m0000gp/T/pip-req-build-calagx7u\n"
     ]
    },
    {
     "name": "stdout",
     "output_type": "stream",
     "text": [
      "  Resolved https://github.com/deepset-ai/haystack-experimental.git to commit 3122605dfae44b0c3fa1653c3ccf8a92fb614f10\n",
      "  Installing build dependencies: started\n",
      "  Installing build dependencies: finished with status 'done'\n",
      "  Getting requirements to build wheel: started\n",
      "  Getting requirements to build wheel: finished with status 'done'\n",
      "  Preparing metadata (pyproject.toml): started\n",
      "  Preparing metadata (pyproject.toml): finished with status 'done'\n",
      "Requirement already satisfied: haystack-ai in /Users/vjawarani/Documents/work/postgrad/tutelary/.venv/lib/python3.9/site-packages (from haystack-experimental==0.1.2.dev30+g3122605) (2.4.0)\n",
      "Requirement already satisfied: jinja2 in /Users/vjawarani/Documents/work/postgrad/tutelary/.venv/lib/python3.9/site-packages (from haystack-ai->haystack-experimental==0.1.2.dev30+g3122605) (3.1.4)\n",
      "Requirement already satisfied: lazy-imports in /Users/vjawarani/Documents/work/postgrad/tutelary/.venv/lib/python3.9/site-packages (from haystack-ai->haystack-experimental==0.1.2.dev30+g3122605) (0.3.1)\n",
      "Requirement already satisfied: more-itertools in /Users/vjawarani/Documents/work/postgrad/tutelary/.venv/lib/python3.9/site-packages (from haystack-ai->haystack-experimental==0.1.2.dev30+g3122605) (10.4.0)\n",
      "Requirement already satisfied: networkx in /Users/vjawarani/Documents/work/postgrad/tutelary/.venv/lib/python3.9/site-packages (from haystack-ai->haystack-experimental==0.1.2.dev30+g3122605) (3.2.1)\n",
      "Requirement already satisfied: numpy<2 in /Users/vjawarani/Documents/work/postgrad/tutelary/.venv/lib/python3.9/site-packages (from haystack-ai->haystack-experimental==0.1.2.dev30+g3122605) (1.26.4)\n",
      "Requirement already satisfied: openai>=1.1.0 in /Users/vjawarani/Documents/work/postgrad/tutelary/.venv/lib/python3.9/site-packages (from haystack-ai->haystack-experimental==0.1.2.dev30+g3122605) (1.42.0)\n",
      "Requirement already satisfied: pandas in /Users/vjawarani/Documents/work/postgrad/tutelary/.venv/lib/python3.9/site-packages (from haystack-ai->haystack-experimental==0.1.2.dev30+g3122605) (2.2.2)\n",
      "Requirement already satisfied: posthog in /Users/vjawarani/Documents/work/postgrad/tutelary/.venv/lib/python3.9/site-packages (from haystack-ai->haystack-experimental==0.1.2.dev30+g3122605) (3.5.2)\n",
      "Requirement already satisfied: python-dateutil in /Users/vjawarani/Documents/work/postgrad/tutelary/.venv/lib/python3.9/site-packages (from haystack-ai->haystack-experimental==0.1.2.dev30+g3122605) (2.9.0.post0)\n",
      "Requirement already satisfied: pyyaml in /Users/vjawarani/Documents/work/postgrad/tutelary/.venv/lib/python3.9/site-packages (from haystack-ai->haystack-experimental==0.1.2.dev30+g3122605) (6.0.2)\n",
      "Requirement already satisfied: requests in /Users/vjawarani/Documents/work/postgrad/tutelary/.venv/lib/python3.9/site-packages (from haystack-ai->haystack-experimental==0.1.2.dev30+g3122605) (2.32.3)\n",
      "Requirement already satisfied: tenacity!=8.4.0 in /Users/vjawarani/Documents/work/postgrad/tutelary/.venv/lib/python3.9/site-packages (from haystack-ai->haystack-experimental==0.1.2.dev30+g3122605) (9.0.0)\n",
      "Requirement already satisfied: tqdm in /Users/vjawarani/Documents/work/postgrad/tutelary/.venv/lib/python3.9/site-packages (from haystack-ai->haystack-experimental==0.1.2.dev30+g3122605) (4.66.5)\n",
      "Requirement already satisfied: typing-extensions>=4.7 in /Users/vjawarani/Documents/work/postgrad/tutelary/.venv/lib/python3.9/site-packages (from haystack-ai->haystack-experimental==0.1.2.dev30+g3122605) (4.12.2)\n",
      "Requirement already satisfied: anyio<5,>=3.5.0 in /Users/vjawarani/Documents/work/postgrad/tutelary/.venv/lib/python3.9/site-packages (from openai>=1.1.0->haystack-ai->haystack-experimental==0.1.2.dev30+g3122605) (4.4.0)\n",
      "Requirement already satisfied: distro<2,>=1.7.0 in /Users/vjawarani/Documents/work/postgrad/tutelary/.venv/lib/python3.9/site-packages (from openai>=1.1.0->haystack-ai->haystack-experimental==0.1.2.dev30+g3122605) (1.9.0)\n",
      "Requirement already satisfied: httpx<1,>=0.23.0 in /Users/vjawarani/Documents/work/postgrad/tutelary/.venv/lib/python3.9/site-packages (from openai>=1.1.0->haystack-ai->haystack-experimental==0.1.2.dev30+g3122605) (0.27.0)\n",
      "Requirement already satisfied: jiter<1,>=0.4.0 in /Users/vjawarani/Documents/work/postgrad/tutelary/.venv/lib/python3.9/site-packages (from openai>=1.1.0->haystack-ai->haystack-experimental==0.1.2.dev30+g3122605) (0.5.0)\n",
      "Requirement already satisfied: pydantic<3,>=1.9.0 in /Users/vjawarani/Documents/work/postgrad/tutelary/.venv/lib/python3.9/site-packages (from openai>=1.1.0->haystack-ai->haystack-experimental==0.1.2.dev30+g3122605) (2.8.2)\n",
      "Requirement already satisfied: sniffio in /Users/vjawarani/Documents/work/postgrad/tutelary/.venv/lib/python3.9/site-packages (from openai>=1.1.0->haystack-ai->haystack-experimental==0.1.2.dev30+g3122605) (1.3.1)\n",
      "Requirement already satisfied: MarkupSafe>=2.0 in /Users/vjawarani/Documents/work/postgrad/tutelary/.venv/lib/python3.9/site-packages (from jinja2->haystack-ai->haystack-experimental==0.1.2.dev30+g3122605) (2.1.5)\n",
      "Requirement already satisfied: pytz>=2020.1 in /Users/vjawarani/Documents/work/postgrad/tutelary/.venv/lib/python3.9/site-packages (from pandas->haystack-ai->haystack-experimental==0.1.2.dev30+g3122605) (2024.1)\n",
      "Requirement already satisfied: tzdata>=2022.7 in /Users/vjawarani/Documents/work/postgrad/tutelary/.venv/lib/python3.9/site-packages (from pandas->haystack-ai->haystack-experimental==0.1.2.dev30+g3122605) (2024.1)\n",
      "Requirement already satisfied: six>=1.5 in /Users/vjawarani/Documents/work/postgrad/tutelary/.venv/lib/python3.9/site-packages (from python-dateutil->haystack-ai->haystack-experimental==0.1.2.dev30+g3122605) (1.16.0)\n",
      "Requirement already satisfied: monotonic>=1.5 in /Users/vjawarani/Documents/work/postgrad/tutelary/.venv/lib/python3.9/site-packages (from posthog->haystack-ai->haystack-experimental==0.1.2.dev30+g3122605) (1.6)\n",
      "Requirement already satisfied: backoff>=1.10.0 in /Users/vjawarani/Documents/work/postgrad/tutelary/.venv/lib/python3.9/site-packages (from posthog->haystack-ai->haystack-experimental==0.1.2.dev30+g3122605) (2.2.1)\n",
      "Requirement already satisfied: charset-normalizer<4,>=2 in /Users/vjawarani/Documents/work/postgrad/tutelary/.venv/lib/python3.9/site-packages (from requests->haystack-ai->haystack-experimental==0.1.2.dev30+g3122605) (3.3.2)\n",
      "Requirement already satisfied: idna<4,>=2.5 in /Users/vjawarani/Documents/work/postgrad/tutelary/.venv/lib/python3.9/site-packages (from requests->haystack-ai->haystack-experimental==0.1.2.dev30+g3122605) (3.8)\n",
      "Requirement already satisfied: urllib3<3,>=1.21.1 in /Users/vjawarani/Documents/work/postgrad/tutelary/.venv/lib/python3.9/site-packages (from requests->haystack-ai->haystack-experimental==0.1.2.dev30+g3122605) (2.2.2)\n",
      "Requirement already satisfied: certifi>=2017.4.17 in /Users/vjawarani/Documents/work/postgrad/tutelary/.venv/lib/python3.9/site-packages (from requests->haystack-ai->haystack-experimental==0.1.2.dev30+g3122605) (2024.7.4)\n",
      "Requirement already satisfied: exceptiongroup>=1.0.2 in /Users/vjawarani/Documents/work/postgrad/tutelary/.venv/lib/python3.9/site-packages (from anyio<5,>=3.5.0->openai>=1.1.0->haystack-ai->haystack-experimental==0.1.2.dev30+g3122605) (1.2.2)\n",
      "Requirement already satisfied: httpcore==1.* in /Users/vjawarani/Documents/work/postgrad/tutelary/.venv/lib/python3.9/site-packages (from httpx<1,>=0.23.0->openai>=1.1.0->haystack-ai->haystack-experimental==0.1.2.dev30+g3122605) (1.0.5)\n",
      "Requirement already satisfied: h11<0.15,>=0.13 in /Users/vjawarani/Documents/work/postgrad/tutelary/.venv/lib/python3.9/site-packages (from httpcore==1.*->httpx<1,>=0.23.0->openai>=1.1.0->haystack-ai->haystack-experimental==0.1.2.dev30+g3122605) (0.14.0)\n",
      "Requirement already satisfied: annotated-types>=0.4.0 in /Users/vjawarani/Documents/work/postgrad/tutelary/.venv/lib/python3.9/site-packages (from pydantic<3,>=1.9.0->openai>=1.1.0->haystack-ai->haystack-experimental==0.1.2.dev30+g3122605) (0.7.0)\n",
      "Requirement already satisfied: pydantic-core==2.20.1 in /Users/vjawarani/Documents/work/postgrad/tutelary/.venv/lib/python3.9/site-packages (from pydantic<3,>=1.9.0->openai>=1.1.0->haystack-ai->haystack-experimental==0.1.2.dev30+g3122605) (2.20.1)\n",
      "Requirement already satisfied: gradio in /Users/vjawarani/Documents/work/postgrad/tutelary/.venv/lib/python3.9/site-packages (4.42.0)\n",
      "Requirement already satisfied: aiofiles<24.0,>=22.0 in /Users/vjawarani/Documents/work/postgrad/tutelary/.venv/lib/python3.9/site-packages (from gradio) (23.2.1)\n",
      "Requirement already satisfied: anyio<5.0,>=3.0 in /Users/vjawarani/Documents/work/postgrad/tutelary/.venv/lib/python3.9/site-packages (from gradio) (4.4.0)\n",
      "Requirement already satisfied: fastapi in /Users/vjawarani/Documents/work/postgrad/tutelary/.venv/lib/python3.9/site-packages (from gradio) (0.112.1)\n",
      "Requirement already satisfied: ffmpy in /Users/vjawarani/Documents/work/postgrad/tutelary/.venv/lib/python3.9/site-packages (from gradio) (0.4.0)\n",
      "Requirement already satisfied: gradio-client==1.3.0 in /Users/vjawarani/Documents/work/postgrad/tutelary/.venv/lib/python3.9/site-packages (from gradio) (1.3.0)\n",
      "Requirement already satisfied: httpx>=0.24.1 in /Users/vjawarani/Documents/work/postgrad/tutelary/.venv/lib/python3.9/site-packages (from gradio) (0.27.0)\n",
      "Requirement already satisfied: huggingface-hub>=0.19.3 in /Users/vjawarani/Documents/work/postgrad/tutelary/.venv/lib/python3.9/site-packages (from gradio) (0.24.6)\n",
      "Requirement already satisfied: importlib-resources<7.0,>=1.3 in /Users/vjawarani/Documents/work/postgrad/tutelary/.venv/lib/python3.9/site-packages (from gradio) (6.4.4)\n",
      "Requirement already satisfied: jinja2<4.0 in /Users/vjawarani/Documents/work/postgrad/tutelary/.venv/lib/python3.9/site-packages (from gradio) (3.1.4)\n",
      "Requirement already satisfied: markupsafe~=2.0 in /Users/vjawarani/Documents/work/postgrad/tutelary/.venv/lib/python3.9/site-packages (from gradio) (2.1.5)\n",
      "Requirement already satisfied: matplotlib~=3.0 in /Users/vjawarani/Documents/work/postgrad/tutelary/.venv/lib/python3.9/site-packages (from gradio) (3.9.2)\n",
      "Requirement already satisfied: numpy<3.0,>=1.0 in /Users/vjawarani/Documents/work/postgrad/tutelary/.venv/lib/python3.9/site-packages (from gradio) (1.26.4)\n",
      "Requirement already satisfied: orjson~=3.0 in /Users/vjawarani/Documents/work/postgrad/tutelary/.venv/lib/python3.9/site-packages (from gradio) (3.10.7)\n",
      "Requirement already satisfied: packaging in /Users/vjawarani/Documents/work/postgrad/tutelary/.venv/lib/python3.9/site-packages (from gradio) (24.1)\n",
      "Requirement already satisfied: pandas<3.0,>=1.0 in /Users/vjawarani/Documents/work/postgrad/tutelary/.venv/lib/python3.9/site-packages (from gradio) (2.2.2)\n",
      "Requirement already satisfied: pillow<11.0,>=8.0 in /Users/vjawarani/Documents/work/postgrad/tutelary/.venv/lib/python3.9/site-packages (from gradio) (10.4.0)\n",
      "Requirement already satisfied: pydantic>=2.0 in /Users/vjawarani/Documents/work/postgrad/tutelary/.venv/lib/python3.9/site-packages (from gradio) (2.8.2)\n",
      "Requirement already satisfied: pydub in /Users/vjawarani/Documents/work/postgrad/tutelary/.venv/lib/python3.9/site-packages (from gradio) (0.25.1)\n",
      "Requirement already satisfied: python-multipart>=0.0.9 in /Users/vjawarani/Documents/work/postgrad/tutelary/.venv/lib/python3.9/site-packages (from gradio) (0.0.9)\n",
      "Requirement already satisfied: pyyaml<7.0,>=5.0 in /Users/vjawarani/Documents/work/postgrad/tutelary/.venv/lib/python3.9/site-packages (from gradio) (6.0.2)\n",
      "Requirement already satisfied: ruff>=0.2.2 in /Users/vjawarani/Documents/work/postgrad/tutelary/.venv/lib/python3.9/site-packages (from gradio) (0.6.2)\n",
      "Requirement already satisfied: semantic-version~=2.0 in /Users/vjawarani/Documents/work/postgrad/tutelary/.venv/lib/python3.9/site-packages (from gradio) (2.10.0)\n",
      "Requirement already satisfied: tomlkit==0.12.0 in /Users/vjawarani/Documents/work/postgrad/tutelary/.venv/lib/python3.9/site-packages (from gradio) (0.12.0)\n",
      "Requirement already satisfied: typer<1.0,>=0.12 in /Users/vjawarani/Documents/work/postgrad/tutelary/.venv/lib/python3.9/site-packages (from gradio) (0.12.4)\n",
      "Requirement already satisfied: typing-extensions~=4.0 in /Users/vjawarani/Documents/work/postgrad/tutelary/.venv/lib/python3.9/site-packages (from gradio) (4.12.2)\n",
      "Requirement already satisfied: urllib3~=2.0 in /Users/vjawarani/Documents/work/postgrad/tutelary/.venv/lib/python3.9/site-packages (from gradio) (2.2.2)\n",
      "Requirement already satisfied: uvicorn>=0.14.0 in /Users/vjawarani/Documents/work/postgrad/tutelary/.venv/lib/python3.9/site-packages (from gradio) (0.30.6)\n",
      "Requirement already satisfied: fsspec in /Users/vjawarani/Documents/work/postgrad/tutelary/.venv/lib/python3.9/site-packages (from gradio-client==1.3.0->gradio) (2024.6.1)\n",
      "Requirement already satisfied: websockets<13.0,>=10.0 in /Users/vjawarani/Documents/work/postgrad/tutelary/.venv/lib/python3.9/site-packages (from gradio-client==1.3.0->gradio) (12.0)\n",
      "Requirement already satisfied: idna>=2.8 in /Users/vjawarani/Documents/work/postgrad/tutelary/.venv/lib/python3.9/site-packages (from anyio<5.0,>=3.0->gradio) (3.8)\n",
      "Requirement already satisfied: sniffio>=1.1 in /Users/vjawarani/Documents/work/postgrad/tutelary/.venv/lib/python3.9/site-packages (from anyio<5.0,>=3.0->gradio) (1.3.1)\n",
      "Requirement already satisfied: exceptiongroup>=1.0.2 in /Users/vjawarani/Documents/work/postgrad/tutelary/.venv/lib/python3.9/site-packages (from anyio<5.0,>=3.0->gradio) (1.2.2)\n",
      "Requirement already satisfied: certifi in /Users/vjawarani/Documents/work/postgrad/tutelary/.venv/lib/python3.9/site-packages (from httpx>=0.24.1->gradio) (2024.7.4)\n",
      "Requirement already satisfied: httpcore==1.* in /Users/vjawarani/Documents/work/postgrad/tutelary/.venv/lib/python3.9/site-packages (from httpx>=0.24.1->gradio) (1.0.5)\n",
      "Requirement already satisfied: h11<0.15,>=0.13 in /Users/vjawarani/Documents/work/postgrad/tutelary/.venv/lib/python3.9/site-packages (from httpcore==1.*->httpx>=0.24.1->gradio) (0.14.0)\n",
      "Requirement already satisfied: filelock in /Users/vjawarani/Documents/work/postgrad/tutelary/.venv/lib/python3.9/site-packages (from huggingface-hub>=0.19.3->gradio) (3.15.4)\n",
      "Requirement already satisfied: requests in /Users/vjawarani/Documents/work/postgrad/tutelary/.venv/lib/python3.9/site-packages (from huggingface-hub>=0.19.3->gradio) (2.32.3)\n",
      "Requirement already satisfied: tqdm>=4.42.1 in /Users/vjawarani/Documents/work/postgrad/tutelary/.venv/lib/python3.9/site-packages (from huggingface-hub>=0.19.3->gradio) (4.66.5)\n",
      "Requirement already satisfied: zipp>=3.1.0 in /Users/vjawarani/Documents/work/postgrad/tutelary/.venv/lib/python3.9/site-packages (from importlib-resources<7.0,>=1.3->gradio) (3.20.0)\n",
      "Requirement already satisfied: contourpy>=1.0.1 in /Users/vjawarani/Documents/work/postgrad/tutelary/.venv/lib/python3.9/site-packages (from matplotlib~=3.0->gradio) (1.2.1)\n",
      "Requirement already satisfied: cycler>=0.10 in /Users/vjawarani/Documents/work/postgrad/tutelary/.venv/lib/python3.9/site-packages (from matplotlib~=3.0->gradio) (0.12.1)\n",
      "Requirement already satisfied: fonttools>=4.22.0 in /Users/vjawarani/Documents/work/postgrad/tutelary/.venv/lib/python3.9/site-packages (from matplotlib~=3.0->gradio) (4.53.1)\n",
      "Requirement already satisfied: kiwisolver>=1.3.1 in /Users/vjawarani/Documents/work/postgrad/tutelary/.venv/lib/python3.9/site-packages (from matplotlib~=3.0->gradio) (1.4.5)\n",
      "Requirement already satisfied: pyparsing>=2.3.1 in /Users/vjawarani/Documents/work/postgrad/tutelary/.venv/lib/python3.9/site-packages (from matplotlib~=3.0->gradio) (3.1.2)\n",
      "Requirement already satisfied: python-dateutil>=2.7 in /Users/vjawarani/Documents/work/postgrad/tutelary/.venv/lib/python3.9/site-packages (from matplotlib~=3.0->gradio) (2.9.0.post0)\n",
      "Requirement already satisfied: pytz>=2020.1 in /Users/vjawarani/Documents/work/postgrad/tutelary/.venv/lib/python3.9/site-packages (from pandas<3.0,>=1.0->gradio) (2024.1)\n",
      "Requirement already satisfied: tzdata>=2022.7 in /Users/vjawarani/Documents/work/postgrad/tutelary/.venv/lib/python3.9/site-packages (from pandas<3.0,>=1.0->gradio) (2024.1)\n",
      "Requirement already satisfied: annotated-types>=0.4.0 in /Users/vjawarani/Documents/work/postgrad/tutelary/.venv/lib/python3.9/site-packages (from pydantic>=2.0->gradio) (0.7.0)\n",
      "Requirement already satisfied: pydantic-core==2.20.1 in /Users/vjawarani/Documents/work/postgrad/tutelary/.venv/lib/python3.9/site-packages (from pydantic>=2.0->gradio) (2.20.1)\n",
      "Requirement already satisfied: click>=8.0.0 in /Users/vjawarani/Documents/work/postgrad/tutelary/.venv/lib/python3.9/site-packages (from typer<1.0,>=0.12->gradio) (8.1.7)\n",
      "Requirement already satisfied: shellingham>=1.3.0 in /Users/vjawarani/Documents/work/postgrad/tutelary/.venv/lib/python3.9/site-packages (from typer<1.0,>=0.12->gradio) (1.5.4)\n",
      "Requirement already satisfied: rich>=10.11.0 in /Users/vjawarani/Documents/work/postgrad/tutelary/.venv/lib/python3.9/site-packages (from typer<1.0,>=0.12->gradio) (13.7.1)\n",
      "Requirement already satisfied: starlette<0.39.0,>=0.37.2 in /Users/vjawarani/Documents/work/postgrad/tutelary/.venv/lib/python3.9/site-packages (from fastapi->gradio) (0.38.2)\n",
      "Requirement already satisfied: six>=1.5 in /Users/vjawarani/Documents/work/postgrad/tutelary/.venv/lib/python3.9/site-packages (from python-dateutil>=2.7->matplotlib~=3.0->gradio) (1.16.0)\n",
      "Requirement already satisfied: markdown-it-py>=2.2.0 in /Users/vjawarani/Documents/work/postgrad/tutelary/.venv/lib/python3.9/site-packages (from rich>=10.11.0->typer<1.0,>=0.12->gradio) (3.0.0)\n",
      "Requirement already satisfied: pygments<3.0.0,>=2.13.0 in /Users/vjawarani/Documents/work/postgrad/tutelary/.venv/lib/python3.9/site-packages (from rich>=10.11.0->typer<1.0,>=0.12->gradio) (2.18.0)\n",
      "Requirement already satisfied: charset-normalizer<4,>=2 in /Users/vjawarani/Documents/work/postgrad/tutelary/.venv/lib/python3.9/site-packages (from requests->huggingface-hub>=0.19.3->gradio) (3.3.2)\n",
      "Requirement already satisfied: mdurl~=0.1 in /Users/vjawarani/Documents/work/postgrad/tutelary/.venv/lib/python3.9/site-packages (from markdown-it-py>=2.2.0->rich>=10.11.0->typer<1.0,>=0.12->gradio) (0.1.2)\n",
      "Requirement already satisfied: torch in /Users/vjawarani/Documents/work/postgrad/tutelary/.venv/lib/python3.9/site-packages (2.4.0)\n",
      "Requirement already satisfied: filelock in /Users/vjawarani/Documents/work/postgrad/tutelary/.venv/lib/python3.9/site-packages (from torch) (3.15.4)\n",
      "Requirement already satisfied: typing-extensions>=4.8.0 in /Users/vjawarani/Documents/work/postgrad/tutelary/.venv/lib/python3.9/site-packages (from torch) (4.12.2)\n",
      "Requirement already satisfied: sympy in /Users/vjawarani/Documents/work/postgrad/tutelary/.venv/lib/python3.9/site-packages (from torch) (1.13.2)\n",
      "Requirement already satisfied: networkx in /Users/vjawarani/Documents/work/postgrad/tutelary/.venv/lib/python3.9/site-packages (from torch) (3.2.1)\n",
      "Requirement already satisfied: jinja2 in /Users/vjawarani/Documents/work/postgrad/tutelary/.venv/lib/python3.9/site-packages (from torch) (3.1.4)\n",
      "Requirement already satisfied: fsspec in /Users/vjawarani/Documents/work/postgrad/tutelary/.venv/lib/python3.9/site-packages (from torch) (2024.6.1)\n",
      "Requirement already satisfied: MarkupSafe>=2.0 in /Users/vjawarani/Documents/work/postgrad/tutelary/.venv/lib/python3.9/site-packages (from jinja2->torch) (2.1.5)\n",
      "Requirement already satisfied: mpmath<1.4,>=1.1.0 in /Users/vjawarani/Documents/work/postgrad/tutelary/.venv/lib/python3.9/site-packages (from sympy->torch) (1.3.0)\n",
      "Requirement already satisfied: mlx in /Users/vjawarani/Documents/work/postgrad/tutelary/.venv/lib/python3.9/site-packages (0.17.0)\n"
     ]
    }
   ],
   "source": [
    "%%bash\n",
    "\n",
    "pip install haystack-ai\n",
    "pip install \"sentence-transformers>=2.8.0\" \"huggingface_hub>=0.22.0\"\n",
    "pip install markdown-it-py mdit_plain pypdf\n",
    "pip install accelerate\n",
    "pip install elasticsearch-haystack\n",
    "pip install git+https://github.com/deepset-ai/haystack-experimental.git\n",
    "pip install gradio\n",
    "pip install torch\n",
    "pip install mlx\n",
    "\n",
    "# git init\n",
    "# docker compose -d"
   ]
  },
  {
   "cell_type": "markdown",
   "metadata": {},
   "source": [
    "## Import Modules"
   ]
  },
  {
   "cell_type": "code",
   "execution_count": 7,
   "metadata": {},
   "outputs": [],
   "source": [
    "from pathlib import Path\n",
    "from haystack.components.writers import DocumentWriter\n",
    "from haystack.components.converters import MarkdownToDocument\n",
    "from haystack.components.preprocessors import DocumentSplitter\n",
    "from haystack.components.joiners import DocumentJoiner\n",
    "from haystack.components.embedders import SentenceTransformersDocumentEmbedder\n",
    "from haystack.components.embedders import SentenceTransformersTextEmbedder\n",
    "from haystack import Pipeline\n",
    "from haystack_integrations.document_stores.elasticsearch import ElasticsearchDocumentStore\n",
    "from haystack_integrations.components.retrievers.elasticsearch import ElasticsearchBM25Retriever\n",
    "from haystack_integrations.components.retrievers.elasticsearch import ElasticsearchEmbeddingRetriever\n",
    "from haystack.document_stores.types import DuplicatePolicy\n",
    "from haystack.utils import ComponentDevice, Secret\n",
    "from haystack.components.rankers import TransformersSimilarityRanker\n",
    "from haystack.components.builders import PromptBuilder\n",
    "from haystack.dataclasses import ChatMessage\n",
    "from haystack.components.generators.utils import print_streaming_chunk\n",
    "from haystack.components.generators import OpenAIGenerator\n",
    "from haystack.components.generators.chat import OpenAIChatGenerator\n",
    "import gradio as gr\n",
    "from getpass import getpass\n",
    "import json\n",
    "import os\n",
    "\n",
    "# Set models\n",
    "embedding_model = \"avsolatorio/GIST-small-Embedding-v0\"\n",
    "reranker = \"BAAI/bge-reranker-base\"\n",
    "generation_model = \"gpt-4o-mini\"\n",
    "chat_model = \"gpt-4o\"\n",
    "temperature = 0.4\n",
    "# os.environ[\"OPENAI_KEY\"] = <your_key>\n",
    "if not os.environ[\"OPENAI_KEY\"]:\n",
    "    os.environ[\"OPENAI_KEY\"] = getpass(\"Enter your API Key for OPENAI:\")\n",
    "\n"
   ]
  },
  {
   "cell_type": "markdown",
   "metadata": {},
   "source": [
    "# Preprocessing and Indexing Pipeline"
   ]
  },
  {
   "cell_type": "code",
   "execution_count": 8,
   "metadata": {},
   "outputs": [
    {
     "name": "stderr",
     "output_type": "stream",
     "text": [
      "Converting markdown files to Documents: 100%|██████████| 71/71 [00:00<00:00, 133.01it/s]\n"
     ]
    },
    {
     "data": {
      "application/vnd.jupyter.widget-view+json": {
       "model_id": "4da5ece2fbef4bdb9c8da664304df847",
       "version_major": 2,
       "version_minor": 0
      },
      "text/plain": [
       "Batches:   0%|          | 0/15 [00:00<?, ?it/s]"
      ]
     },
     "metadata": {},
     "output_type": "display_data"
    },
    {
     "data": {
      "text/plain": [
       "{'writer': {'documents_written': 0}}"
      ]
     },
     "execution_count": 8,
     "metadata": {},
     "output_type": "execute_result"
    }
   ],
   "source": [
    "# Markdown files downloaded from Privacy Guides' GitHub at\n",
    "# https://github.com/privacyguides\n",
    "file_names = list(Path('.').glob('../docs/**/*.md'))\n",
    "\n",
    "# If the index is deleted, the docker container does not need to\n",
    "# be removed every time we want to restart kernel in Colab/Jupyter\n",
    "doc_ind = \"test\"\n",
    "document_store = ElasticsearchDocumentStore(hosts = \"http://localhost:9200\", index=doc_ind)\n",
    "\n",
    "# Initialize components\n",
    "converter = MarkdownToDocument()\n",
    "splitter = DocumentSplitter()\n",
    "doc_embedder = SentenceTransformersDocumentEmbedder(model=embedding_model, \n",
    "                                                    device=ComponentDevice.from_str(\"mps:0\"), \n",
    "                                                    meta_fields_to_embed=[\"title\"])\n",
    "writer = DocumentWriter(document_store, DuplicatePolicy.SKIP)\n",
    "\n",
    "# Add Pipeline components\n",
    "indexing_pipeline = Pipeline()\n",
    "indexing_pipeline.add_component(\"converter\", converter)\n",
    "indexing_pipeline.add_component(\"splitter\", splitter)\n",
    "indexing_pipeline.add_component(\"doc_embedder\", doc_embedder)\n",
    "indexing_pipeline.add_component(\"writer\", writer)\n",
    "\n",
    "# Pair senders and receivers\n",
    "indexing_pipeline.connect(\"converter\", \"splitter\")\n",
    "indexing_pipeline.connect(\"splitter\", \"doc_embedder\")\n",
    "indexing_pipeline.connect(\"doc_embedder\", \"writer\")\n",
    "\n",
    "# Send data into pipeline\n",
    "indexing_pipeline.run({\n",
    "    \"converter\":{\"sources\":file_names},\n",
    "    }, debug=True)\n"
   ]
  },
  {
   "cell_type": "markdown",
   "metadata": {},
   "source": [
    "## Delete Test Index \n",
    "\n",
    "Use this to reset your embeddings when testing."
   ]
  },
  {
   "cell_type": "code",
   "execution_count": 9,
   "metadata": {},
   "outputs": [],
   "source": [
    "# from elasticsearch import Elasticsearch\n",
    "\n",
    "# # Connect to the Elasticsearch client\n",
    "# es = Elasticsearch(hosts = \"http://localhost:9200\")\n",
    "\n",
    "# # Delete the index\n",
    "# es.indices.delete(index=doc_ind, ignore=[404])"
   ]
  },
  {
   "cell_type": "markdown",
   "metadata": {},
   "source": [
    "# RAG Pipeline"
   ]
  },
  {
   "cell_type": "markdown",
   "metadata": {},
   "source": [
    "## Hybrid Embedding Search"
   ]
  },
  {
   "cell_type": "code",
   "execution_count": 10,
   "metadata": {},
   "outputs": [],
   "source": [
    "# Use the same model for embedding documents for embedding text\n",
    "text_embedder = SentenceTransformersTextEmbedder(\n",
    "    model=embedding_model, device=ComponentDevice.from_str(\"mps:0\")\n",
    ")\n",
    "embedding_retriever = ElasticsearchEmbeddingRetriever(document_store=document_store, top_k=4)\n",
    "bm25_retriever = ElasticsearchBM25Retriever(document_store=document_store, top_k=4)\n",
    "\n",
    "doc_joiner = DocumentJoiner()\n",
    "ranker = TransformersSimilarityRanker(model=reranker)\n",
    "\n",
    "# Create a template to query with\n",
    "\n",
    "template = \"\"\"\n",
    "Answer the questions based on the given context.\n",
    "\n",
    "Context:\n",
    "{% for document in documents %}\n",
    "    {{ document.content }}\n",
    "{% endfor %}\n",
    "Question: {{ question }}\n",
    "Answer:\n",
    "\"\"\"\n",
    "\n",
    "\n",
    "\n",
    "rag_pipeline = Pipeline()\n",
    "rag_pipeline.add_component(\"text_embedder\", text_embedder)\n",
    "rag_pipeline.add_component(\"embedding_retriever\", embedding_retriever)\n",
    "rag_pipeline.add_component(\"bm25_retriever\", bm25_retriever)\n",
    "rag_pipeline.add_component(\"doc_joiner\", doc_joiner)\n",
    "rag_pipeline.add_component(\"ranker\", ranker)\n",
    "rag_pipeline.add_component(\"prompt_builder\", PromptBuilder(template=template))\n",
    "rag_pipeline.add_component(\"llm\", OpenAIGenerator(model=generation_model, \n",
    "                                                  api_key=Secret.from_env_var(\"OPENAI_KEY\")))\n",
    "\n",
    "# text\n",
    "rag_pipeline.connect(\"text_embedder\", \"embedding_retriever\")\n",
    "rag_pipeline.connect(\"bm25_retriever\", \"doc_joiner\")\n",
    "rag_pipeline.connect(\"embedding_retriever\", \"doc_joiner\")\n",
    "rag_pipeline.connect(\"doc_joiner\", \"ranker\")\n",
    "rag_pipeline.connect(\"ranker\", \"prompt_builder.documents\")\n",
    "rag_pipeline.connect(\"prompt_builder\", \"llm\")\n",
    "\n",
    "\n",
    "# query = \"What does PrivacyGuides think about JustDeleteMe? How often should I use it?\"\n",
    "\n",
    "def get_privacy_info(query: str):\n",
    "    result = rag_pipeline.run(\n",
    "        {\"text_embedder\": {\"text\": query}, \"bm25_retriever\": {\"query\": query}, \"ranker\": {\"query\": query}, \"prompt_builder\": {\"question\": query}}\n",
    "    )\n",
    "    return {\"reply\": result[\"llm\"][\"replies\"][0]}\n"
   ]
  },
  {
   "cell_type": "markdown",
   "metadata": {},
   "source": [
    "### Set Up Function as Tool for Chat Generator"
   ]
  },
  {
   "cell_type": "code",
   "execution_count": 11,
   "metadata": {},
   "outputs": [],
   "source": [
    "tools = [\n",
    "    {\n",
    "        \"type\": \"function\",\n",
    "        \"function\": {\n",
    "            \"name\": \"get_privacy_info\",\n",
    "            \"description\": \"Get accurate real-time information on PrivacyGuides. Always use before answering questions related to privacy.\",\n",
    "            \"parameters\": {\n",
    "                \"type\": \"object\",\n",
    "                \"properties\": {\n",
    "                    \"query\": {\n",
    "                        \"type\": \"string\",\n",
    "                        \"description\": \"The query to use in the search. Infer this from the user's message. It should be a question or a statement\",\n",
    "                    }\n",
    "                },\n",
    "                \"required\": [\"query\"],\n",
    "            },\n",
    "        },\n",
    "    },\n",
    "]"
   ]
  },
  {
   "cell_type": "markdown",
   "metadata": {},
   "source": [
    "# Chat Functionality"
   ]
  },
  {
   "cell_type": "markdown",
   "metadata": {},
   "source": [
    "## Prompt Engineering"
   ]
  },
  {
   "cell_type": "code",
   "execution_count": 12,
   "metadata": {},
   "outputs": [],
   "source": [
    "\n",
    "\n",
    "# Most successful prompt so far: \n",
    "system_message_template = \"\"\"\n",
    "    You are a logical and convincing privacy advocate that is guiding the user through 1) building a threat model and 2) changing the tools they use\n",
    "    so that their tools meet their privacy needs. Use exclusively tools that are recommended by PrivacyGuides.org in your recommendations. That website\n",
    "    is the source of all supporting documents. Use tools as necessary in order to provide recommendations and respond accurately.\n",
    "                                         \n",
    "\n",
    "    The general pattern of guidance should be the following. Ask any questions that are necessary to learn about the user's internet habits.\n",
    "                                         \n",
    "    1) Ask the user questions to help them build a threat model. Help them understand of risks to their internet privacy and safety. Be sure to ask the following question: \n",
    "    What steps and tools do you currently take towards protecting your privacy? (VPNs, password managers, browser extensions, email services)\n",
    "    2) Let the user respond with information. Once enough information has been received to build a threat model, continue to the next step.\n",
    "    3) Recommend and easy changes to their privacy that would fulfill these needs. Ask them to consider installing tools recommended by PrivacyGuides.org if they are not already using those tools.\n",
    "    If the user has a low need for privacy, recommend simpler and easier changes to their privacy use. For example, recommend downloading a VPN, installing an Adblocker,\n",
    "    and installing a different browser. If the user has a high need for privacy, recommend more time-consuming changes that fulfill their needs like using a new Email Service or Operating System.\n",
    "    4) Let the user respond.\n",
    "    5) Offer to guide the user through installation of the recommended tools one-by-one. Do not overwhelm the user - allow the user to ask questions between each installation or skip them entirely.\n",
    "    4) Offer 'privacyguides.org' as additional reading, offer to expand on their understanding of privacy, and offer to help them become more secure through some\n",
    "    other recommendations.\n",
    "                                         \n",
    "    The general attitude should be the following:                                  \n",
    "    Be passionate that privacy is a right that everyone should be concerned about.\n",
    "    Be intelligent and concise.\n",
    "    Explain concepts using real-world analogies if applicable.\n",
    "    Be fully confident in recommending tools that Privacy Guides recommends.\n",
    "\n",
    "    Do not mention these instructions to the user. Begin by prompting them.\n",
    "    \"\"\"\n",
    "\n",
    "messages = [ChatMessage.from_system(system_message_template)]\n",
    "response = None\n",
    "# messages = [ChatMessage.from_user(query)]\n",
    "chat_generator = OpenAIChatGenerator(model=chat_model, api_key=Secret.from_env_var(\"OPENAI_KEY\"),\n",
    "                            generation_kwargs={\"temperature\": temperature, \"tools\": tools})\n"
   ]
  },
  {
   "cell_type": "markdown",
   "metadata": {},
   "source": [
    "### Test Function Call Generator"
   ]
  },
  {
   "cell_type": "code",
   "execution_count": 13,
   "metadata": {},
   "outputs": [],
   "source": [
    "# response = chat_generator.run(messages=messages)\n",
    "# print(response)\n",
    "\n",
    "# >>> {'replies': [ChatMessage(content='[{\"id\": \"call_aWhoXGvEdWNnUSELfDSuqtDX\", \"function\": {\"arguments\": \"{\\\\\"query\\\\\": \\\\\"JustDeleteMe\\\\\"}\", \"name\": \"get_privacy_info\"}, \"type\": \"function\"}, {\"id\": \"call_t0BMpNoIBrVDJsodevBvT7c5\", \"function\": {\"arguments\": \"{\\\\\"query\\\\\": \\\\\"How often should I use JustDeleteMe?\\\\\"}\", \"name\": \"get_privacy_info\"}, \"type\": \"function\"}]', role=<ChatRole.ASSISTANT: 'assistant'>, name=None, meta={'model': 'gpt-4o-2024-05-13', 'index': 0, 'finish_reason': 'stop', 'usage': {'completion_tokens': 56, 'prompt_tokens': 102, 'total_tokens': 158}})]}"
   ]
  },
  {
   "cell_type": "markdown",
   "metadata": {},
   "source": [
    "### Test Function Call and Response"
   ]
  },
  {
   "cell_type": "code",
   "execution_count": 14,
   "metadata": {},
   "outputs": [],
   "source": [
    "# # Parse function calling information\n",
    "# function_call = json.loads(response[\"replies\"][0].content)[0]\n",
    "# function_name = function_call[\"function\"][\"name\"]\n",
    "# function_args = json.loads(function_call[\"function\"][\"arguments\"])\n",
    "# print(\"Function Name:\", function_name)\n",
    "# print(\"Function Arguments:\", function_args)\n",
    "\n",
    "# # Find the corresponding function and call it with the given arguments\n",
    "# available_functions = {\"get_privacy_info\": get_privacy_info}\n",
    "# function_to_call = available_functions[function_name]\n",
    "# function_response = function_to_call(**function_args)\n",
    "# print(\"Function Response:\", function_response)\n",
    "\n",
    "# function_message = ChatMessage.from_function(content=json.dumps(function_response), name=function_name)\n",
    "# messages.append(function_message)\n",
    "\n",
    "# response = chat_generator.run(messages=messages)\n",
    "# print(\"Final Response:\", response)\n"
   ]
  },
  {
   "cell_type": "markdown",
   "metadata": {},
   "source": [
    "# Gradio Chat"
   ]
  },
  {
   "cell_type": "code",
   "execution_count": 15,
   "metadata": {},
   "outputs": [],
   "source": [
    "response = None\n",
    "available_functions = {\"get_privacy_info\": get_privacy_info}\n",
    "\n",
    "def tutelary_chat(message, history):\n",
    "    messages.append(ChatMessage.from_user(message))\n",
    "    response = chat_generator.run(messages=messages, generation_kwargs={\"tools\": tools})\n",
    "\n",
    "    while True:\n",
    "        # if OpenAI response is a tool call\n",
    "        if response and response[\"replies\"][0].meta[\"finish_reason\"] == \"tool_calls\":\n",
    "            function_calls = json.loads(response[\"replies\"][0].content)\n",
    "            print(response[\"replies\"][0])\n",
    "            for function_call in function_calls:\n",
    "                ## Parse function calling information\n",
    "                function_name = function_call[\"function\"][\"name\"]\n",
    "                function_args = json.loads(function_call[\"function\"][\"arguments\"])\n",
    "\n",
    "                ## Find the correspoding function and call it with the given arguments\n",
    "                function_to_call = available_functions[function_name]\n",
    "                function_response = function_to_call(**function_args)\n",
    "\n",
    "                ## Append function response to the messages list using `ChatMessage.from_function`\n",
    "                messages.append(ChatMessage.from_function(content=json.dumps(function_response), name=function_name))\n",
    "                response = chat_generator.run(messages=messages, generation_kwargs={\"tools\": tools})\n",
    "\n",
    "        # Regular Conversation\n",
    "        else:\n",
    "            messages.append(response[\"replies\"][0])\n",
    "            break\n",
    "    return response[\"replies\"][0].content\n",
    "\n",
    "\n",
    "demo = gr.ChatInterface(\n",
    "    fn=tutelary_chat,\n",
    "    examples=[\n",
    "        \"Should I use an account deletion service?\",\n",
    "        \"What are the top three VPNS that Privacy Guides recommends?\",\n",
    "        \"Is MacOS the safest consumer Operating System?\",\n",
    "        \"How can I safely store my files?\",\n",
    "    ],\n",
    "    title=\"Let me help you build a threat model. Just say 'hi'.\",\n",
    ")"
   ]
  },
  {
   "cell_type": "markdown",
   "metadata": {},
   "source": [
    "### Run Gradio"
   ]
  },
  {
   "cell_type": "code",
   "execution_count": 16,
   "metadata": {},
   "outputs": [
    {
     "name": "stdout",
     "output_type": "stream",
     "text": [
      "Running on local URL:  http://127.0.0.1:7860\n"
     ]
    },
    {
     "name": "stderr",
     "output_type": "stream",
     "text": [
      "huggingface/tokenizers: The current process just got forked, after parallelism has already been used. Disabling parallelism to avoid deadlocks...\n",
      "To disable this warning, you can either:\n",
      "\t- Avoid using `tokenizers` before the fork if possible\n",
      "\t- Explicitly set the environment variable TOKENIZERS_PARALLELISM=(true | false)\n"
     ]
    },
    {
     "name": "stdout",
     "output_type": "stream",
     "text": [
      "Running on public URL: https://9b0ff395822bfa4775.gradio.live\n",
      "\n",
      "This share link expires in 72 hours. For free permanent hosting and GPU upgrades, run `gradio deploy` from Terminal to deploy to Spaces (https://huggingface.co/spaces)\n"
     ]
    },
    {
     "data": {
      "text/html": [
       "<div><iframe src=\"https://9b0ff395822bfa4775.gradio.live\" width=\"100%\" height=\"500\" allow=\"autoplay; camera; microphone; clipboard-read; clipboard-write;\" frameborder=\"0\" allowfullscreen></iframe></div>"
      ],
      "text/plain": [
       "<IPython.core.display.HTML object>"
      ]
     },
     "metadata": {},
     "output_type": "display_data"
    },
    {
     "data": {
      "text/plain": []
     },
     "execution_count": 16,
     "metadata": {},
     "output_type": "execute_result"
    },
    {
     "name": "stdout",
     "output_type": "stream",
     "text": [
      "ChatMessage(content='[{\"id\": \"call_HMOhzQER8jmTjg3EjE8wc0rB\", \"function\": {\"arguments\": \"{\\\\\"query\\\\\": \\\\\"Firefox vs Brave privacy comparison\\\\\"}\", \"name\": \"get_privacy_info\"}, \"type\": \"function\"}, {\"id\": \"call_X1lrBS1nEa8hs8R774lIPpZF\", \"function\": {\"arguments\": \"{\\\\\"query\\\\\": \\\\\"Firefox privacy features\\\\\"}\", \"name\": \"get_privacy_info\"}, \"type\": \"function\"}, {\"id\": \"call_R4OaZnIy2GqRsAJghXvq5x7h\", \"function\": {\"arguments\": \"{\\\\\"query\\\\\": \\\\\"Brave privacy features\\\\\"}\", \"name\": \"get_privacy_info\"}, \"type\": \"function\"}]', role=<ChatRole.ASSISTANT: 'assistant'>, name=None, meta={'model': 'gpt-4o-2024-05-13', 'index': 0, 'finish_reason': 'tool_calls', 'usage': {'completion_tokens': 73, 'prompt_tokens': 1003, 'total_tokens': 1076, 'completion_tokens_details': {'reasoning_tokens': 0}}})\n"
     ]
    }
   ],
   "source": [
    "demo.launch(share=True)"
   ]
  },
  {
   "cell_type": "code",
   "execution_count": 17,
   "metadata": {},
   "outputs": [],
   "source": [
    "# demo.close()"
   ]
  },
  {
   "cell_type": "markdown",
   "metadata": {},
   "source": [
    "# Generate Pipeline Graphs"
   ]
  },
  {
   "cell_type": "code",
   "execution_count": 18,
   "metadata": {},
   "outputs": [
    {
     "data": {
      "application/vnd.jupyter.widget-view+json": {
       "model_id": "406e6f63c46244ca877bb9c8b05618dc",
       "version_major": 2,
       "version_minor": 0
      },
      "text/plain": [
       "Batches:   0%|          | 0/1 [00:00<?, ?it/s]"
      ]
     },
     "metadata": {},
     "output_type": "display_data"
    },
    {
     "data": {
      "application/vnd.jupyter.widget-view+json": {
       "model_id": "a57ebc1430f045108050d249f84ee9d7",
       "version_major": 2,
       "version_minor": 0
      },
      "text/plain": [
       "Batches:   0%|          | 0/1 [00:00<?, ?it/s]"
      ]
     },
     "metadata": {},
     "output_type": "display_data"
    },
    {
     "data": {
      "application/vnd.jupyter.widget-view+json": {
       "model_id": "5f0292a1f3fc496b9a35b26979b0247a",
       "version_major": 2,
       "version_minor": 0
      },
      "text/plain": [
       "Batches:   0%|          | 0/1 [00:00<?, ?it/s]"
      ]
     },
     "metadata": {},
     "output_type": "display_data"
    }
   ],
   "source": [
    "\n",
    "indexing_pipeline.draw(\"imgs/indexing.png\")\n",
    "rag_pipeline.draw(\"imgs/rag.png\")"
   ]
  },
  {
   "cell_type": "markdown",
   "metadata": {},
   "source": [
    " **Uncomment the lines below** to see the pipeline graphs.\n",
    "\n",
    " <!-- \n",
    " ![Indexing](imgs/indexing.png \"Indexing\")\n",
    " ![Retrieval](imgs/rag.png \"Retrieval\")\n",
    " -->\n"
   ]
  }
 ],
 "metadata": {
  "kernelspec": {
   "display_name": "tutelary",
   "language": "python",
   "name": "python3"
  },
  "language_info": {
   "codemirror_mode": {
    "name": "ipython",
    "version": 3
   },
   "file_extension": ".py",
   "mimetype": "text/x-python",
   "name": "python",
   "nbconvert_exporter": "python",
   "pygments_lexer": "ipython3",
   "version": "3.9.6"
  }
 },
 "nbformat": 4,
 "nbformat_minor": 2
}
